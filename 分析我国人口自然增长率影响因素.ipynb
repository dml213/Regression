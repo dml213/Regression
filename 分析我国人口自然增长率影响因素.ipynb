{
 "cells": [
  {
   "cell_type": "code",
   "execution_count": 1,
   "metadata": {},
   "outputs": [],
   "source": [
    "import numpy as np\n",
    "import pandas as pd\n",
    "import matplotlib.pyplot as plt\n",
    "import seaborn as sns\n",
    "import statsmodels.api as sm\n",
    "import statsmodels.stats.api as sms\n",
    "from statsmodels.compat import lzip\n",
    "from statsmodels.formula.api import ols   #导入模块\n",
    "import statsmodels.stats.outliers_influence as smo\n",
    "import xlrd    # 为了excel文件导入成功必须的包"
   ]
  },
  {
   "cell_type": "code",
   "execution_count": 2,
   "metadata": {
    "scrolled": true
   },
   "outputs": [],
   "source": [
    "df = pd.read_excel('NPGR.xls')\n",
    "#df"
   ]
  },
  {
   "cell_type": "code",
   "execution_count": 3,
   "metadata": {},
   "outputs": [
    {
     "name": "stdout",
     "output_type": "stream",
     "text": [
      "                            OLS Regression Results                            \n",
      "==============================================================================\n",
      "Dep. Variable:              常住人口自然增长率   R-squared:                       0.797\n",
      "Model:                            OLS   Adj. R-squared:                  0.719\n",
      "Method:                 Least Squares   F-statistic:                     10.20\n",
      "Date:                Tue, 28 Dec 2021   Prob (F-statistic):           0.000383\n",
      "Time:                        22:22:52   Log-Likelihood:                -17.160\n",
      "No. Observations:                  19   AIC:                             46.32\n",
      "Df Residuals:                      13   BIC:                             51.99\n",
      "Df Model:                           5                                         \n",
      "Covariance Type:            nonrobust                                         \n",
      "=================================================================================\n",
      "                    coef    std err          t      P>|t|      [0.025      0.975]\n",
      "---------------------------------------------------------------------------------\n",
      "Intercept        -6.3611     10.327     -0.616      0.549     -28.671      15.949\n",
      "商品房平均销售价格        -1.5630      0.944     -1.656      0.122      -3.602       0.476\n",
      "常住人口城镇化率          0.1279      0.280      0.456      0.656      -0.477       0.733\n",
      "单位人口医疗卫生机构床位数     0.5182      0.228      2.272      0.041       0.026       1.011\n",
      "人均GDP            -0.0005      0.000     -1.480      0.163      -0.001       0.000\n",
      "工业增加值          6.101e-05   3.65e-05      1.671      0.119   -1.79e-05       0.000\n",
      "==============================================================================\n",
      "Omnibus:                        1.334   Durbin-Watson:                   2.571\n",
      "Prob(Omnibus):                  0.513   Jarque-Bera (JB):                0.542\n",
      "Skew:                           0.411   Prob(JB):                        0.763\n",
      "Kurtosis:                       3.097   Cond. No.                     1.28e+07\n",
      "==============================================================================\n",
      "\n",
      "Warnings:\n",
      "[1] Standard Errors assume that the covariance matrix of the errors is correctly specified.\n",
      "[2] The condition number is large, 1.28e+07. This might indicate that there are\n",
      "strong multicollinearity or other numerical problems.\n"
     ]
    },
    {
     "name": "stderr",
     "output_type": "stream",
     "text": [
      "D:\\learning\\anaconda\\lib\\site-packages\\scipy\\stats\\stats.py:1604: UserWarning: kurtosistest only valid for n>=20 ... continuing anyway, n=19\n",
      "  \"anyway, n=%i\" % int(n))\n"
     ]
    }
   ],
   "source": [
    "#进行OLS分析\n",
    "model = ols('常住人口自然增长率~商品房平均销售价格+常住人口城镇化率+单位人口医疗卫生机构床位数+人均GDP+工业增加值',data = df).fit()\n",
    "#model = ols('常住人口自然增长率~np.log(常住人口城镇化率)+np.log(单位人口医疗卫生机构床位数)',data = df).fit()\n",
    "model_summary = model.summary()\n",
    "print(model_summary)"
   ]
  },
  {
   "cell_type": "code",
   "execution_count": 4,
   "metadata": {},
   "outputs": [
    {
     "name": "stdout",
     "output_type": "stream",
     "text": [
      "                            OLS Regression Results                            \n",
      "==============================================================================\n",
      "Dep. Variable:              常住人口自然增长率   R-squared:                       0.764\n",
      "Model:                            OLS   Adj. R-squared:                  0.673\n",
      "Method:                 Least Squares   F-statistic:                     8.419\n",
      "Date:                Tue, 28 Dec 2021   Prob (F-statistic):           0.000964\n",
      "Time:                        22:22:52   Log-Likelihood:                -18.586\n",
      "No. Observations:                  19   AIC:                             49.17\n",
      "Df Residuals:                      13   BIC:                             54.84\n",
      "Df Model:                           5                                         \n",
      "Covariance Type:            nonrobust                                         \n",
      "=================================================================================\n",
      "                    coef    std err          t      P>|t|      [0.025      0.975]\n",
      "---------------------------------------------------------------------------------\n",
      "Intercept       -20.3664     16.525     -1.232      0.240     -56.067      15.334\n",
      "商品房平均销售价格        -2.5889      0.629     -4.114      0.001      -3.949      -1.229\n",
      "常住人口城镇化率         -0.0712      0.695     -0.103      0.920      -1.572       1.429\n",
      "单位人口医疗卫生机构床位数     0.3473      0.203      1.712      0.111      -0.091       0.786\n",
      "np.log(人均GDP)    -1.4010     15.559     -0.090      0.930     -35.015      32.212\n",
      "np.log(工业增加值)     3.6217     12.261      0.295      0.772     -22.867      30.110\n",
      "==============================================================================\n",
      "Omnibus:                        2.139   Durbin-Watson:                   2.486\n",
      "Prob(Omnibus):                  0.343   Jarque-Bera (JB):                0.732\n",
      "Skew:                           0.397   Prob(JB):                        0.693\n",
      "Kurtosis:                       3.544   Cond. No.                     7.67e+03\n",
      "==============================================================================\n",
      "\n",
      "Warnings:\n",
      "[1] Standard Errors assume that the covariance matrix of the errors is correctly specified.\n",
      "[2] The condition number is large, 7.67e+03. This might indicate that there are\n",
      "strong multicollinearity or other numerical problems.\n"
     ]
    }
   ],
   "source": [
    "#对人均GDP和工业增加值取对数，再进行OLS分析\n",
    "model1 = ols('常住人口自然增长率~商品房平均销售价格+常住人口城镇化率+单位人口医疗卫生机构床位数+np.log(人均GDP)+np.log(工业增加值)',data = df).fit()\n",
    "#model1 = ols('常住人口自然增长率~np.log(常住人口城镇化率)+np.log(单位人口医疗卫生机构床位数)',data = df).fit()\n",
    "model1_summary = model1.summary()\n",
    "print(model1_summary)"
   ]
  },
  {
   "cell_type": "code",
   "execution_count": 5,
   "metadata": {},
   "outputs": [
    {
     "data": {
      "text/html": [
       "<div>\n",
       "<style scoped>\n",
       "    .dataframe tbody tr th:only-of-type {\n",
       "        vertical-align: middle;\n",
       "    }\n",
       "\n",
       "    .dataframe tbody tr th {\n",
       "        vertical-align: top;\n",
       "    }\n",
       "\n",
       "    .dataframe thead th {\n",
       "        text-align: right;\n",
       "    }\n",
       "</style>\n",
       "<table border=\"1\" class=\"dataframe\">\n",
       "  <thead>\n",
       "    <tr style=\"text-align: right;\">\n",
       "      <th></th>\n",
       "      <th>指标</th>\n",
       "      <th>常住人口自然增长率</th>\n",
       "      <th>商品房平均销售价格</th>\n",
       "      <th>常住人口城镇化率</th>\n",
       "      <th>单位人口医疗卫生机构床位数</th>\n",
       "      <th>人均GDP</th>\n",
       "      <th>工业增加值</th>\n",
       "    </tr>\n",
       "  </thead>\n",
       "  <tbody>\n",
       "    <tr>\n",
       "      <th>指标</th>\n",
       "      <td>1.000000</td>\n",
       "      <td>-0.494113</td>\n",
       "      <td>0.985343</td>\n",
       "      <td>0.999627</td>\n",
       "      <td>0.984232</td>\n",
       "      <td>0.987290</td>\n",
       "      <td>0.970229</td>\n",
       "    </tr>\n",
       "    <tr>\n",
       "      <th>常住人口自然增长率</th>\n",
       "      <td>-0.494113</td>\n",
       "      <td>1.000000</td>\n",
       "      <td>-0.587776</td>\n",
       "      <td>-0.478779</td>\n",
       "      <td>-0.495191</td>\n",
       "      <td>-0.417248</td>\n",
       "      <td>-0.388095</td>\n",
       "    </tr>\n",
       "    <tr>\n",
       "      <th>商品房平均销售价格</th>\n",
       "      <td>0.985343</td>\n",
       "      <td>-0.587776</td>\n",
       "      <td>1.000000</td>\n",
       "      <td>0.984174</td>\n",
       "      <td>0.987634</td>\n",
       "      <td>0.950828</td>\n",
       "      <td>0.923765</td>\n",
       "    </tr>\n",
       "    <tr>\n",
       "      <th>常住人口城镇化率</th>\n",
       "      <td>0.999627</td>\n",
       "      <td>-0.478779</td>\n",
       "      <td>0.984174</td>\n",
       "      <td>1.000000</td>\n",
       "      <td>0.986044</td>\n",
       "      <td>0.986890</td>\n",
       "      <td>0.969231</td>\n",
       "    </tr>\n",
       "    <tr>\n",
       "      <th>单位人口医疗卫生机构床位数</th>\n",
       "      <td>0.984232</td>\n",
       "      <td>-0.495191</td>\n",
       "      <td>0.987634</td>\n",
       "      <td>0.986044</td>\n",
       "      <td>1.000000</td>\n",
       "      <td>0.949661</td>\n",
       "      <td>0.918664</td>\n",
       "    </tr>\n",
       "    <tr>\n",
       "      <th>人均GDP</th>\n",
       "      <td>0.987290</td>\n",
       "      <td>-0.417248</td>\n",
       "      <td>0.950828</td>\n",
       "      <td>0.986890</td>\n",
       "      <td>0.949661</td>\n",
       "      <td>1.000000</td>\n",
       "      <td>0.995926</td>\n",
       "    </tr>\n",
       "    <tr>\n",
       "      <th>工业增加值</th>\n",
       "      <td>0.970229</td>\n",
       "      <td>-0.388095</td>\n",
       "      <td>0.923765</td>\n",
       "      <td>0.969231</td>\n",
       "      <td>0.918664</td>\n",
       "      <td>0.995926</td>\n",
       "      <td>1.000000</td>\n",
       "    </tr>\n",
       "  </tbody>\n",
       "</table>\n",
       "</div>"
      ],
      "text/plain": [
       "                     指标  常住人口自然增长率  商品房平均销售价格  常住人口城镇化率  单位人口医疗卫生机构床位数  \\\n",
       "指标             1.000000  -0.494113   0.985343  0.999627       0.984232   \n",
       "常住人口自然增长率     -0.494113   1.000000  -0.587776 -0.478779      -0.495191   \n",
       "商品房平均销售价格      0.985343  -0.587776   1.000000  0.984174       0.987634   \n",
       "常住人口城镇化率       0.999627  -0.478779   0.984174  1.000000       0.986044   \n",
       "单位人口医疗卫生机构床位数  0.984232  -0.495191   0.987634  0.986044       1.000000   \n",
       "人均GDP          0.987290  -0.417248   0.950828  0.986890       0.949661   \n",
       "工业增加值          0.970229  -0.388095   0.923765  0.969231       0.918664   \n",
       "\n",
       "                  人均GDP     工业增加值  \n",
       "指标             0.987290  0.970229  \n",
       "常住人口自然增长率     -0.417248 -0.388095  \n",
       "商品房平均销售价格      0.950828  0.923765  \n",
       "常住人口城镇化率       0.986890  0.969231  \n",
       "单位人口医疗卫生机构床位数  0.949661  0.918664  \n",
       "人均GDP          1.000000  0.995926  \n",
       "工业增加值          0.995926  1.000000  "
      ]
     },
     "execution_count": 5,
     "metadata": {},
     "output_type": "execute_result"
    }
   ],
   "source": [
    "#计算相关系数矩阵\n",
    "df2 = df\n",
    "df2['人均GDP'] = np.log(df['人均GDP'])\n",
    "df2['工业增加值'] = np.log(df['工业增加值'])\n",
    "df2.corr()"
   ]
  },
  {
   "cell_type": "code",
   "execution_count": 6,
   "metadata": {},
   "outputs": [
    {
     "name": "stdout",
     "output_type": "stream",
     "text": [
      "        variable          vif\n",
      "0      商品房平均销售价格    67.914886\n",
      "1       常住人口城镇化率   900.559149\n",
      "2  单位人口医疗卫生机构床位数   241.703541\n",
      "3          人均GDP  3146.529508\n",
      "4          工业增加值  1651.020245\n"
     ]
    }
   ],
   "source": [
    "# 计算方差扩大因子\n",
    "df3 = df2\n",
    "df3 = df3.drop(['指标','常住人口自然增长率'], axis=1)  # 删除多余变量，包括因变量\n",
    "df3['const'] = 1  # 添加常数项\n",
    "x = np.array(df3)\n",
    "vif_list = [smo.variance_inflation_factor(x, i) for i in range(x.shape[1])]\n",
    "df_vif = pd.DataFrame({'variable': list(df3.columns), 'vif': vif_list})\n",
    "df_vif = df_vif[~(df_vif['variable'] == 'const')]   # 删除常数项\n",
    "print(df_vif)"
   ]
  },
  {
   "cell_type": "code",
   "execution_count": 7,
   "metadata": {},
   "outputs": [
    {
     "data": {
      "text/plain": [
       "[('Lagrange multiplier statistic', 19.0),\n",
       " ('p-value', 0.39182348254493976),\n",
       " ('f-value', nan),\n",
       " ('f p-value', nan)]"
      ]
     },
     "execution_count": 7,
     "metadata": {},
     "output_type": "execute_result"
    }
   ],
   "source": [
    "#white检验异方差性\n",
    "name = [\"Lagrange multiplier statistic\", \"p-value\", \"f-value\", \"f p-value\"]\n",
    "test = sms.het_white(model1.resid, model1.model.exog)\n",
    "lzip(name, test)"
   ]
  },
  {
   "cell_type": "code",
   "execution_count": 8,
   "metadata": {
    "scrolled": false
   },
   "outputs": [
    {
     "name": "stdout",
     "output_type": "stream",
     "text": [
      "                            OLS Regression Results                            \n",
      "==============================================================================\n",
      "Dep. Variable:              常住人口自然增长率   R-squared:                       0.753\n",
      "Model:                            OLS   Adj. R-squared:                  0.703\n",
      "Method:                 Least Squares   F-statistic:                     15.22\n",
      "Date:                Tue, 28 Dec 2021   Prob (F-statistic):           8.07e-05\n",
      "Time:                        22:22:52   Log-Likelihood:                -19.034\n",
      "No. Observations:                  19   AIC:                             46.07\n",
      "Df Residuals:                      15   BIC:                             49.85\n",
      "Df Model:                           3                                         \n",
      "Covariance Type:            nonrobust                                         \n",
      "=================================================================================\n",
      "                    coef    std err          t      P>|t|      [0.025      0.975]\n",
      "---------------------------------------------------------------------------------\n",
      "Intercept        -8.0321      4.564     -1.760      0.099     -17.761       1.697\n",
      "商品房平均销售价格        -2.7952      0.505     -5.530      0.000      -3.873      -1.718\n",
      "常住人口城镇化率          0.3744      0.144      2.595      0.020       0.067       0.682\n",
      "单位人口医疗卫生机构床位数     0.2156      0.092      2.345      0.033       0.020       0.412\n",
      "==============================================================================\n",
      "Omnibus:                        2.366   Durbin-Watson:                   2.365\n",
      "Prob(Omnibus):                  0.306   Jarque-Bera (JB):                0.767\n",
      "Skew:                           0.235   Prob(JB):                        0.682\n",
      "Kurtosis:                       3.865   Cond. No.                     1.82e+03\n",
      "==============================================================================\n",
      "\n",
      "Warnings:\n",
      "[1] Standard Errors assume that the covariance matrix of the errors is correctly specified.\n",
      "[2] The condition number is large, 1.82e+03. This might indicate that there are\n",
      "strong multicollinearity or other numerical problems.\n"
     ]
    },
    {
     "name": "stderr",
     "output_type": "stream",
     "text": [
      "D:\\learning\\anaconda\\lib\\site-packages\\scipy\\stats\\stats.py:1604: UserWarning: kurtosistest only valid for n>=20 ... continuing anyway, n=19\n",
      "  \"anyway, n=%i\" % int(n))\n"
     ]
    }
   ],
   "source": [
    "#解决多重共线性\n",
    "model2 = ols('常住人口自然增长率~商品房平均销售价格+常住人口城镇化率+单位人口医疗卫生机构床位数',data = df2).fit()\n",
    "model2_summary = model2.summary()\n",
    "print(model2_summary)"
   ]
  },
  {
   "cell_type": "code",
   "execution_count": 9,
   "metadata": {},
   "outputs": [
    {
     "name": "stdout",
     "output_type": "stream",
     "text": [
      "        variable        vif\n",
      "0      商品房平均销售价格  14.496854\n",
      "1  单位人口医疗卫生机构床位数  14.496854\n"
     ]
    }
   ],
   "source": [
    "# 计算方差扩大因子\n",
    "df4 = df2\n",
    "df4 = df4.drop(['指标','常住人口自然增长率','人均GDP','工业增加值','常住人口城镇化率'], axis=1)  # 删除多余变量，包括因变量\n",
    "#df4['常住人口城镇化率'] = np.log(df4['常住人口城镇化率'])\n",
    "df4['商品房平均销售价格'] = np.log(df4['商品房平均销售价格'])\n",
    "#df4['单位人口医疗卫生机构床位数'] = np.log(df4['单位人口医疗卫生机构床位数'])\n",
    "df4['const'] = 1  # 添加常数项\n",
    "x = np.array(df4)\n",
    "vif_list = [smo.variance_inflation_factor(x, i) for i in range(x.shape[1])]\n",
    "df_vif = pd.DataFrame({'variable': list(df4.columns), 'vif': vif_list})\n",
    "df_vif = df_vif[~(df_vif['variable'] == 'const')]   # 删除常数项\n",
    "print(df_vif)"
   ]
  }
 ],
 "metadata": {
  "kernelspec": {
   "display_name": "Python 3",
   "language": "python",
   "name": "python3"
  },
  "language_info": {
   "codemirror_mode": {
    "name": "ipython",
    "version": 3
   },
   "file_extension": ".py",
   "mimetype": "text/x-python",
   "name": "python",
   "nbconvert_exporter": "python",
   "pygments_lexer": "ipython3",
   "version": "3.7.7"
  }
 },
 "nbformat": 4,
 "nbformat_minor": 4
}
